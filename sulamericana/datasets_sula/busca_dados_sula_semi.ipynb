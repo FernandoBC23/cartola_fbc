{
 "cells": [
  {
   "cell_type": "markdown",
   "metadata": {},
   "source": [
    "### Semi Sulamericana\n"
   ]
  },
  {
   "cell_type": "code",
   "execution_count": 1,
   "metadata": {},
   "outputs": [
    {
     "name": "stderr",
     "output_type": "stream",
     "text": [
      "2025-07-14 17:28:27,212 - numexpr.utils - INFO - NumExpr defaulting to 8 threads.\n"
     ]
    }
   ],
   "source": [
    "import cartolafc\n",
    "import pandas as pd\n",
    "from difflib import get_close_matches\n",
    "import json\n",
    "import re \n",
    "\n",
    "pd.set_option('display.max_columns', 50)            # permite a visualização de 50 colunas do dataframe\n",
    "pd.options.display.float_format = '{:.2f}'.format   # pandas: para todos os números aparecerem com duas casas decimais\n",
    "\n",
    "# Cria uma instância da API\n",
    "api = cartolafc.Api(attempts=5)"
   ]
  },
  {
   "cell_type": "markdown",
   "metadata": {},
   "source": [
    "### Função de conversão de JS para dicionário Python"
   ]
  },
  {
   "cell_type": "code",
   "execution_count": null,
   "metadata": {},
   "outputs": [],
   "source": [
    "def carregar_js_para_dict(caminho_arquivo):\n",
    "    with open(caminho_arquivo, encoding='utf-8') as f:\n",
    "        conteudo = f.read()\n",
    "        # remove o \"const nome = ...;\"\n",
    "        match = re.search(r'=\\s*(\\[\\s*{.*}\\s*])\\s*;', conteudo, re.DOTALL)\n",
    "        if match:\n",
    "            return json.loads(match.group(1))\n",
    "        else:\n",
    "            raise ValueError(\"Formato do arquivo inválido\")"
   ]
  },
  {
   "cell_type": "markdown",
   "metadata": {},
   "source": [
    "### Função para gerar confrontos da próxima fase"
   ]
  },
  {
   "cell_type": "code",
   "execution_count": 3,
   "metadata": {},
   "outputs": [],
   "source": [
    "def gerar_confrontos_proxima_fase(confrontos_atual, resultados_atual, rodada_ida, rodada_volta, rodada_proxima_fase):\n",
    "    jogos = sorted(list(set([c['jogo'] for c in confrontos_atual])))\n",
    "    classificados = []\n",
    "\n",
    "    for jogo in jogos:\n",
    "        ida = next((r for r in resultados_atual if r['jogo'] == jogo and r['rodada'] == rodada_ida), None)\n",
    "        volta = next((r for r in resultados_atual if r['jogo'] == jogo and r['rodada'] == rodada_volta), None)\n",
    "\n",
    "        if not ida or not volta:\n",
    "            continue\n",
    "\n",
    "        time1 = ida['mandante']['nome']\n",
    "        time2 = ida['visitante']['nome']\n",
    "\n",
    "        pontos1 = ida['mandante']['pontos'] + volta['visitante']['pontos']\n",
    "        pontos2 = ida['visitante']['pontos'] + volta['mandante']['pontos']\n",
    "\n",
    "        vencedor = time1 if pontos1 > pontos2 else time2\n",
    "        classificados.append(vencedor)\n",
    "\n",
    "    confrontos_novos = []\n",
    "    for i in range(0, len(classificados), 2):\n",
    "        confronto = {\n",
    "            \"jogo\": f\"Jogo {chr(65 + i // 2)}\",\n",
    "            \"rodada\": rodada_proxima_fase,\n",
    "            \"mandante\": {\"nome\": classificados[i]},\n",
    "            \"visitante\": {\"nome\": classificados[i + 1]}\n",
    "        }\n",
    "        confrontos_novos.append(confronto)\n",
    "\n",
    "    return confrontos_novos\n"
   ]
  },
  {
   "cell_type": "markdown",
   "metadata": {},
   "source": [
    "### Carregar os dados das quartas"
   ]
  },
  {
   "cell_type": "code",
   "execution_count": null,
   "metadata": {},
   "outputs": [],
   "source": [
    "confrontos_quartas = carregar_js_para_dict(\"confrontos_quartas_sula.js\")\n",
    "resultados_quartas = carregar_js_para_dict(\"resultados_quartas_sula.js\")"
   ]
  },
  {
   "cell_type": "markdown",
   "metadata": {},
   "source": [
    "### Gerar confrontos da semi"
   ]
  },
  {
   "cell_type": "code",
   "execution_count": 9,
   "metadata": {},
   "outputs": [],
   "source": [
    "confrontos_semi = gerar_confrontos_proxima_fase(\n",
    "    confrontos_quartas,\n",
    "    resultados_quartas,\n",
    "    rodada_ida=11,\n",
    "    rodada_volta=12,\n",
    "    rodada_proxima_fase=13\n",
    ")"
   ]
  },
  {
   "cell_type": "markdown",
   "metadata": {},
   "source": [
    "### Salvar confrontos_semi_sula.js"
   ]
  },
  {
   "cell_type": "code",
   "execution_count": 16,
   "metadata": {},
   "outputs": [
    {
     "data": {
      "text/html": [
       "<div>\n",
       "<style scoped>\n",
       "    .dataframe tbody tr th:only-of-type {\n",
       "        vertical-align: middle;\n",
       "    }\n",
       "\n",
       "    .dataframe tbody tr th {\n",
       "        vertical-align: top;\n",
       "    }\n",
       "\n",
       "    .dataframe thead th {\n",
       "        text-align: right;\n",
       "    }\n",
       "</style>\n",
       "<table border=\"1\" class=\"dataframe\">\n",
       "  <thead>\n",
       "    <tr style=\"text-align: right;\">\n",
       "      <th></th>\n",
       "      <th>jogo</th>\n",
       "      <th>rodada</th>\n",
       "      <th>mandante</th>\n",
       "      <th>visitante</th>\n",
       "    </tr>\n",
       "  </thead>\n",
       "  <tbody>\n",
       "    <tr>\n",
       "      <th>0</th>\n",
       "      <td>Jogo A</td>\n",
       "      <td>13</td>\n",
       "      <td>Gremiomaniasm</td>\n",
       "      <td>Grêmio imortal 37</td>\n",
       "    </tr>\n",
       "    <tr>\n",
       "      <th>1</th>\n",
       "      <td>Jogo B</td>\n",
       "      <td>13</td>\n",
       "      <td>MauHumor F.C.</td>\n",
       "      <td>E.C. Bororé</td>\n",
       "    </tr>\n",
       "  </tbody>\n",
       "</table>\n",
       "</div>"
      ],
      "text/plain": [
       "     jogo  rodada       mandante          visitante\n",
       "0  Jogo A      13  Gremiomaniasm  Grêmio imortal 37\n",
       "1  Jogo B      13  MauHumor F.C.        E.C. Bororé"
      ]
     },
     "metadata": {},
     "output_type": "display_data"
    },
    {
     "name": "stdout",
     "output_type": "stream",
     "text": [
      "Confrontos da semifinal salvos em .js e .xlsx com sucesso!\n"
     ]
    }
   ],
   "source": [
    "# Salvar o arquivo JS normalmente\n",
    "with open(\"confrontos_semi_sula.js\", \"w\", encoding=\"utf-8\") as f:\n",
    "    f.write(\"const confrontos_semi_sula = \")\n",
    "    json.dump(confrontos_semi, f, indent=2, ensure_ascii=False)\n",
    "    f.write(\";\")\n",
    "\n",
    "# Transformar em DataFrame para exportar para Excel\n",
    "df_confrontos = pd.DataFrame([\n",
    "    {\n",
    "        \"jogo\": c[\"jogo\"],\n",
    "        \"rodada\": c[\"rodada\"],\n",
    "        \"mandante\": c[\"mandante\"][\"nome\"],\n",
    "        \"visitante\": c[\"visitante\"][\"nome\"]\n",
    "    }\n",
    "    for c in confrontos_semi\n",
    "])\n",
    "\n",
    "# Salvar em Excel\n",
    "df_confrontos.to_excel(\"confrontos_semi_sula.xlsx\", index=False)\n",
    "\n",
    "# Visualização\n",
    "display(df_confrontos)\n",
    "print(\"Confrontos da semifinal salvos em .js e .xlsx com sucesso!\")\n"
   ]
  },
  {
   "cell_type": "markdown",
   "metadata": {},
   "source": []
  },
  {
   "cell_type": "code",
   "execution_count": 14,
   "metadata": {},
   "outputs": [],
   "source": [
    "import json\n",
    "\n",
    "with open(\"confrontos_semi_sula.js\", encoding=\"utf-8\") as f:\n",
    "    conteudo = f.read()\n",
    "    confrontos_semi = json.loads(conteudo.split(\"=\", 1)[1].strip(\" ;\"))\n"
   ]
  },
  {
   "cell_type": "markdown",
   "metadata": {},
   "source": []
  },
  {
   "cell_type": "code",
   "execution_count": 17,
   "metadata": {},
   "outputs": [],
   "source": [
    "def exibir_resultados_rodada(df_rodadas, df_pontuacoes, rodada, jogo=None):\n",
    "    \"\"\"\n",
    "    Exibe os resultados de uma rodada específica, com pontuação e dados dos times.\n",
    "    \"\"\"\n",
    "\n",
    "    if \"Rodada\" not in df_rodadas.columns:\n",
    "        raise ValueError(\"O DataFrame df_rodadas precisa conter a coluna 'Rodada'.\")\n",
    "\n",
    "    if rodada not in df_rodadas[\"Rodada\"].values:\n",
    "        return pd.DataFrame([{\n",
    "            \"Jogo\": jogo or \"-\",\n",
    "            \"Rodada\": rodada,\n",
    "            \"Mandante_Nome\": \"-\",\n",
    "            \"Mandante_Clube\": \"-\",\n",
    "            \"Mandante_Participante\": \"-\",\n",
    "            \"Mandante_Pontos\": \"-\",\n",
    "            \"Visitante_Nome\": \"-\",\n",
    "            \"Visitante_Clube\": \"-\",\n",
    "            \"Visitante_Participante\": \"-\",\n",
    "            \"Visitante_Pontos\": \"-\",\n",
    "        }])\n",
    "\n",
    "    df_filtrado = df_rodadas[df_rodadas[\"Rodada\"] == rodada]\n",
    "    if jogo:\n",
    "        df_filtrado = df_filtrado[df_filtrado[\"Jogo\"] == jogo]\n",
    "\n",
    "    resultados = []\n",
    "\n",
    "    for _, row in df_filtrado.iterrows():\n",
    "        jogo_ = row[\"Jogo\"]\n",
    "        mandante = row[\"Mandante_Nome\"]\n",
    "        visitante = row[\"Visitante_Nome\"]\n",
    "\n",
    "        pontos_mandante = df_pontuacoes.get(f\"Rodada {rodada}\", {}).get(mandante, None)\n",
    "        pontos_visitante = df_pontuacoes.get(f\"Rodada {rodada}\", {}).get(visitante, None)\n",
    "\n",
    "        resultados.append({\n",
    "            \"Jogo\": jogo_,\n",
    "            \"Rodada\": rodada,\n",
    "            \"Mandante_Nome\": mandante,\n",
    "            \"Mandante_Pontos\": pontos_mandante,\n",
    "            \"Visitante_Nome\": visitante,\n",
    "            \"Visitante_Pontos\": pontos_visitante\n",
    "        })\n",
    "\n",
    "    return pd.DataFrame(resultados)\n",
    "\n"
   ]
  },
  {
   "cell_type": "code",
   "execution_count": null,
   "metadata": {},
   "outputs": [],
   "source": [
    "# Exibir resultados da 2ª rodada\n",
    "df_resultados_rodada_1 = exibir_resultados_rodada(df_rodadas, df_pontuacoes, rodada=11)\n",
    "\n",
    "# Exibir apenas os resultados do Grupo B na 1ª rodada\n",
    "df_resultados_jogo_B = exibir_resultados_rodada(df_rodadas, df_pontuacoes, rodada=11, jogo=\"Jogo B1\")\n",
    "\n",
    "# Exibir\n",
    "display(df_resultados_rodada_1)\n",
    "display(df_resultados_jogo_B)"
   ]
  }
 ],
 "metadata": {
  "kernelspec": {
   "display_name": "base",
   "language": "python",
   "name": "python3"
  },
  "language_info": {
   "codemirror_mode": {
    "name": "ipython",
    "version": 3
   },
   "file_extension": ".py",
   "mimetype": "text/x-python",
   "name": "python",
   "nbconvert_exporter": "python",
   "pygments_lexer": "ipython3",
   "version": "3.11.5"
  }
 },
 "nbformat": 4,
 "nbformat_minor": 2
}
